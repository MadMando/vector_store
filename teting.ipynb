{
 "cells": [
  {
   "cell_type": "code",
   "execution_count": 1,
   "metadata": {},
   "outputs": [
    {
     "name": "stdout",
     "output_type": "stream",
     "text": [
      "📌 Stored Documents in Metadata Table:\n",
      "('doc_1', 'Test document')\n",
      "('doc1', 'Machine learning is amazing!')\n",
      "('doc2', 'Machine learning is amazing!')\n"
     ]
    }
   ],
   "source": [
    "import sqlite3\n",
    "\n",
    "# Connect to your database\n",
    "conn = sqlite3.connect(\"vector_store.db\", check_same_thread=False)\n",
    "cursor = conn.cursor()\n",
    "\n",
    "# Fetch stored documents\n",
    "cursor.execute(\"SELECT * FROM metadata;\")\n",
    "rows = cursor.fetchall()\n",
    "\n",
    "# Print results\n",
    "print(\"📌 Stored Documents in Metadata Table:\")\n",
    "for row in rows:\n",
    "    print(row)\n",
    "\n",
    "conn.close()\n"
   ]
  }
 ],
 "metadata": {
  "kernelspec": {
   "display_name": "Python 3",
   "language": "python",
   "name": "python3"
  },
  "language_info": {
   "codemirror_mode": {
    "name": "ipython",
    "version": 3
   },
   "file_extension": ".py",
   "mimetype": "text/x-python",
   "name": "python",
   "nbconvert_exporter": "python",
   "pygments_lexer": "ipython3",
   "version": "3.9.21"
  }
 },
 "nbformat": 4,
 "nbformat_minor": 2
}
